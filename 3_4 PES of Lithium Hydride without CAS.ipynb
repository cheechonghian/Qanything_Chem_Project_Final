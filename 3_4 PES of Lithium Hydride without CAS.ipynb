{
 "cells": [
  {
   "cell_type": "markdown",
   "id": "7eae971e",
   "metadata": {},
   "source": [
    "# PES of Lithium Hydride without CAS\n",
    "\n",
    "Here, we explore the Potential Energy Surface of the Lithium Hydride $LiH$ for various Bond Lengths, between 2.1 to 3.9 Bohr with an interval of 0.2 Bohr.\n",
    "\n",
    "We shall see that both our PennyLane and Qamuy PES Implementation will give a clear PES curvature of Lithium Hydride $LiH$."
   ]
  },
  {
   "cell_type": "code",
   "execution_count": 25,
   "id": "fda2ebe7-99e4-4c26-b97f-3289d0055935",
   "metadata": {},
   "outputs": [],
   "source": [
    "# Native Lib\n",
    "import itertools as it\n",
    "import copy\n",
    "\n",
    "# External Lib\n",
    "import pennylane as qml\n",
    "import numpy as np\n",
    "from pennylane import numpy as plnp\n",
    "import matplotlib.pyplot as plt\n",
    "\n",
    "# qanything Lib\n",
    "import qanything.get_index as getind\n",
    "import qanything.get_molecule as getmol\n",
    "import qanything.get_json as getjson"
   ]
  },
  {
   "cell_type": "markdown",
   "id": "9049be9c",
   "metadata": {},
   "source": [
    "### PennyLane PES Implementation"
   ]
  },
  {
   "cell_type": "code",
   "execution_count": 9,
   "id": "984b63a3-2144-4632-8ffb-1b5fcc0ec1e6",
   "metadata": {},
   "outputs": [
    {
     "name": "stdout",
     "output_type": "stream",
     "text": [
      "Molecule Symbol: ['Li', 'H']\n",
      "Coordinates: [0.  0.  0.  0.  0.  2.9]\n",
      "Molecule Charge: 0\n",
      "Number of Electrons: 4\n",
      "Number of Qubits: 12\n",
      "Number of Pauli Strings: 631\n",
      "Number of Single Excitations: 32\n",
      "Number of Double Excitations: 168\n",
      "Total Number of Excitations: 200\n",
      "Hartree Fock State: [1 1 1 1 0 0 0 0 0 0 0 0]\n"
     ]
    }
   ],
   "source": [
    "# Define the array of bond lenghts\n",
    "step_size = 0.2\n",
    "min_length = 2.1\n",
    "max_length = 3.9\n",
    "bond_length_arr = np.arange(min_length,max_length+step_size, step_size)\n",
    "\n",
    "# Create Lithium Hydride\n",
    "mol_name = 'lih'\n",
    "mol_full_name = 'lithium hydride'\n",
    "\n",
    "# Get Lithium Hydride Molecule\n",
    "mol_symbols, coords, charge, num_elec = getmol.get_molecule(mol_name, bond_length_arr[0])\n",
    "\n",
    "# Get the Molecular Hamiltonian (Using Jordan-Wigner)\n",
    "mol_ham, num_qubits = qml.qchem.molecular_hamiltonian(symbols=mol_symbols, coordinates=coords, name=mol_full_name ,charge=charge, basis='sto-3g')\n",
    "\n",
    "# Getting the Orbital and Excitation Index \n",
    "occupied_index, single_index, double_index = getind.generate_excite_index(num_qubits, num_elec)\n",
    "\n",
    "# Get the Fermionic Disentangled Unitary Coupled Cluster Single Doubles (UCCSD) Excitation Order \n",
    "disentangle_order = getind.generate_disentanglement_order(occupied_index, single_index, double_index)\n",
    "\n",
    "# Get the Hartree-Fock State\n",
    "hf = qml.qchem.hf_state(electrons=num_elec, orbitals=num_qubits)\n",
    "\n",
    "# Prepare the UCCSD Ansatz based on the Disentangled Order\n",
    "def uccsd_ansatz(params, wires, excitations):\n",
    "    qml.BasisState(hf, wires=wires)\n",
    "    for i, excitation in enumerate(excitations):\n",
    "        if len(excitation) == 4:\n",
    "            qml.DoubleExcitation(params[i], wires=excitation)\n",
    "        else:\n",
    "            qml.SingleExcitation(params[i], wires=excitation)\n",
    "\n",
    "# Prepare a device, cost function and optimiser\n",
    "dev = qml.device(\"default.qubit\", wires=num_qubits)\n",
    "optimiser_rm = qml.RMSPropOptimizer()\n",
    "max_steps = 20"
   ]
  },
  {
   "cell_type": "code",
   "execution_count": 21,
   "id": "ad77d7de",
   "metadata": {},
   "outputs": [
    {
     "name": "stdout",
     "output_type": "stream",
     "text": [
      "Bond Length: 2.1\n",
      "Iter: 0, Energy: -7.863267217418832\n",
      "Iter: 1, Energy: -7.868057230375661\n",
      "Iter: 2, Energy: -7.870974915595973\n",
      "Iter: 3, Energy: -7.873058341151042\n",
      "Iter: 4, Energy: -7.874642259160537\n",
      "Iter: 5, Energy: -7.875891261237805\n",
      "Iter: 6, Energy: -7.876891031019004\n",
      "Iter: 7, Energy: -7.877673815800454\n",
      "Iter: 8, Energy: -7.878230305842424\n",
      "Iter: 9, Energy: -7.878541584829318\n",
      "Iter: 10, Energy: -7.878662649069709\n",
      "Iter: 11, Energy: -7.878972929064874\n",
      "Iter: 12, Energy: -7.879290395491548\n",
      "Iter: 13, Energy: -7.879469012737168\n",
      "Iter: 14, Energy: -7.880292844160899\n",
      "Iter: 15, Energy: -7.880873392147149\n",
      "Iter: 16, Energy: -7.881265513914686\n",
      "Iter: 17, Energy: -7.8815410181962156\n",
      "Iter: 18, Energy: -7.8817358555762995\n",
      "Iter: 19, Energy: -7.881647399321932\n",
      "Bond Length: 2.3000000000000003\n",
      "Iter: 0, Energy: -7.839068341824087\n",
      "Iter: 1, Energy: -7.843776813698192\n",
      "Iter: 2, Energy: -7.84640981384651\n",
      "Iter: 3, Energy: -7.848220092136643\n",
      "Iter: 4, Energy: -7.849558657812672\n",
      "Iter: 5, Energy: -7.8504957099143455\n",
      "Iter: 6, Energy: -7.851118173548349\n",
      "Iter: 7, Energy: -7.851652697918141\n",
      "Iter: 8, Energy: -7.852241932930283\n",
      "Iter: 9, Energy: -7.852802460547634\n",
      "Iter: 10, Energy: -7.853260033234852\n",
      "Iter: 11, Energy: -7.853759770145659\n",
      "Iter: 12, Energy: -7.8541629744472985\n",
      "Iter: 13, Energy: -7.854442109946737\n",
      "Iter: 14, Energy: -7.854632692297018\n",
      "Iter: 15, Energy: -7.854357314480984\n",
      "Iter: 16, Energy: -7.853560179336558\n",
      "Iter: 17, Energy: -7.850507567872428\n",
      "Iter: 18, Energy: -7.845960732748286\n",
      "Iter: 19, Energy: -7.8400137898514695\n",
      "Bond Length: 2.5000000000000004\n",
      "Iter: 0, Energy: -7.854526359906689\n",
      "Iter: 1, Energy: -7.85962816854434\n",
      "Iter: 2, Energy: -7.862470670693372\n",
      "Iter: 3, Energy: -7.864347404317209\n",
      "Iter: 4, Energy: -7.86566233384361\n",
      "Iter: 5, Energy: -7.866587483521781\n",
      "Iter: 6, Energy: -7.867240435232512\n",
      "Iter: 7, Energy: -7.867739003274784\n",
      "Iter: 8, Energy: -7.868030432784873\n",
      "Iter: 9, Energy: -7.868315951859881\n",
      "Iter: 10, Energy: -7.86888793517153\n",
      "Iter: 11, Energy: -7.869527703279794\n",
      "Iter: 12, Energy: -7.8700114256268225\n",
      "Iter: 13, Energy: -7.870370571733495\n",
      "Iter: 14, Energy: -7.870634296308975\n",
      "Iter: 15, Energy: -7.869125611462452\n",
      "Iter: 16, Energy: -7.861661363125424\n",
      "Iter: 17, Energy: -7.863400595181372\n",
      "Iter: 18, Energy: -7.866415416768721\n",
      "Iter: 19, Energy: -7.867736048867097\n",
      "Bond Length: 2.7000000000000006\n",
      "Iter: 0, Energy: -7.86186851506054\n",
      "Iter: 1, Energy: -7.867072449970771\n",
      "Iter: 2, Energy: -7.869984338166924\n",
      "Iter: 3, Energy: -7.871907776123989\n",
      "Iter: 4, Energy: -7.873248674000775\n",
      "Iter: 5, Energy: -7.874223655582903\n",
      "Iter: 6, Energy: -7.8748865177114515\n",
      "Iter: 7, Energy: -7.875217414312552\n",
      "Iter: 8, Energy: -7.875526028069196\n",
      "Iter: 9, Energy: -7.876385515711571\n",
      "Iter: 10, Energy: -7.877192977020371\n",
      "Iter: 11, Energy: -7.877751921369483\n",
      "Iter: 12, Energy: -7.878153750211777\n",
      "Iter: 13, Energy: -7.878462529244334\n",
      "Iter: 14, Energy: -7.878696694853667\n",
      "Iter: 15, Energy: -7.878881522585845\n",
      "Iter: 16, Energy: -7.879024843468945\n",
      "Iter: 17, Energy: -7.878920788236252\n",
      "Iter: 18, Energy: -7.877905367852365\n",
      "Iter: 19, Energy: -7.876270547167297\n",
      "Bond Length: 2.900000000000001\n",
      "Iter: 0, Energy: -7.863267217418826\n",
      "Iter: 1, Energy: -7.868532655384963\n",
      "Iter: 2, Energy: -7.87152471541118\n",
      "Iter: 3, Energy: -7.873520652621763\n",
      "Iter: 4, Energy: -7.874871490326053\n",
      "Iter: 5, Energy: -7.875683911357918\n",
      "Iter: 6, Energy: -7.876307360301965\n",
      "Iter: 7, Energy: -7.877179501937831\n",
      "Iter: 8, Energy: -7.878102439362295\n",
      "Iter: 9, Energy: -7.8788745109744625\n",
      "Iter: 10, Energy: -7.879526999911961\n",
      "Iter: 11, Energy: -7.8800337770244155\n",
      "Iter: 12, Energy: -7.8804134044335346\n",
      "Iter: 13, Energy: -7.878647596222454\n",
      "Iter: 14, Energy: -7.8693726742870105\n",
      "Iter: 15, Energy: -7.873638352457338\n",
      "Iter: 16, Energy: -7.875404327812851\n",
      "Iter: 17, Energy: -7.872412030682583\n",
      "Iter: 18, Energy: -7.869506298750014\n",
      "Iter: 19, Energy: -7.874452316666114\n",
      "Bond Length: 3.100000000000001\n",
      "Iter: 0, Energy: -7.860292959046737\n",
      "Iter: 1, Energy: -7.865599045527222\n",
      "Iter: 2, Energy: -7.868710644235226\n",
      "Iter: 3, Energy: -7.870858316243433\n",
      "Iter: 4, Energy: -7.872356038281893\n",
      "Iter: 5, Energy: -7.873270875620449\n",
      "Iter: 6, Energy: -7.873897374751307\n",
      "Iter: 7, Energy: -7.874810649090315\n",
      "Iter: 8, Energy: -7.8759047716081\n",
      "Iter: 9, Energy: -7.876756727439712\n",
      "Iter: 10, Energy: -7.877444836423363\n",
      "Iter: 11, Energy: -7.878082808507576\n",
      "Iter: 12, Energy: -7.878581432937078\n",
      "Iter: 13, Energy: -7.87897516944939\n",
      "Iter: 14, Energy: -7.879294019543164\n",
      "Iter: 15, Energy: -7.879561945395577\n",
      "Iter: 16, Energy: -7.879780947041808\n",
      "Iter: 17, Energy: -7.879941435929308\n",
      "Iter: 18, Energy: -7.879952498526984\n",
      "Iter: 19, Energy: -7.880055262489372\n",
      "Bond Length: 3.300000000000001\n",
      "Iter: 0, Energy: -7.854103891727646\n",
      "Iter: 1, Energy: -7.859438238931514\n",
      "Iter: 2, Energy: -7.862653771443884\n",
      "Iter: 3, Energy: -7.864929260418733\n",
      "Iter: 4, Energy: -7.866601717366599\n",
      "Iter: 5, Energy: -7.867802080193609\n",
      "Iter: 6, Energy: -7.868653908048081\n",
      "Iter: 7, Energy: -7.869484982723697\n",
      "Iter: 8, Energy: -7.870476264547327\n",
      "Iter: 9, Energy: -7.871545542330688\n",
      "Iter: 10, Energy: -7.87244709104236\n",
      "Iter: 11, Energy: -7.873136524021566\n",
      "Iter: 12, Energy: -7.873677356941923\n",
      "Iter: 13, Energy: -7.874144396616971\n",
      "Iter: 14, Energy: -7.874537292651855\n",
      "Iter: 15, Energy: -7.87425094567296\n",
      "Iter: 16, Energy: -7.871786776144257\n",
      "Iter: 17, Energy: -7.869714438594637\n",
      "Iter: 18, Energy: -7.869586190896515\n",
      "Iter: 19, Energy: -7.864366493427351\n",
      "Bond Length: 3.5000000000000013\n",
      "Iter: 0, Energy: -7.845565339321777\n",
      "Iter: 1, Energy: -7.850905994500214\n",
      "Iter: 2, Energy: -7.85423452222496\n",
      "Iter: 3, Energy: -7.856662060423107\n",
      "Iter: 4, Energy: -7.8584873874592205\n",
      "Iter: 5, Energy: -7.859832962722077\n",
      "Iter: 6, Energy: -7.860835197156292\n",
      "Iter: 7, Energy: -7.8618287854729\n",
      "Iter: 8, Energy: -7.863062339973393\n",
      "Iter: 9, Energy: -7.864270057844213\n",
      "Iter: 10, Energy: -7.865249960397851\n",
      "Iter: 11, Energy: -7.866034491076815\n",
      "Iter: 12, Energy: -7.866669058739827\n",
      "Iter: 13, Energy: -7.867031472190514\n",
      "Iter: 14, Energy: -7.865783570882212\n",
      "Iter: 15, Energy: -7.8577344102499245\n",
      "Iter: 16, Energy: -7.861526792234298\n",
      "Iter: 17, Energy: -7.861912471529402\n",
      "Iter: 18, Energy: -7.862858797445109\n",
      "Iter: 19, Energy: -7.8652808026677175\n",
      "Bond Length: 3.7000000000000015\n",
      "Iter: 0, Energy: -7.835329240197271\n",
      "Iter: 1, Energy: -7.840681630427488\n",
      "Iter: 2, Energy: -7.844120886751329\n",
      "Iter: 3, Energy: -7.846686848783908\n",
      "Iter: 4, Energy: -7.848666204155411\n",
      "Iter: 5, Energy: -7.850193035336147\n",
      "Iter: 6, Energy: -7.851407668879725\n",
      "Iter: 7, Energy: -7.852602816557752\n",
      "Iter: 8, Energy: -7.854010865903787\n",
      "Iter: 9, Energy: -7.855359666576061\n",
      "Iter: 10, Energy: -7.856456256566925\n",
      "Iter: 11, Energy: -7.857351450005356\n",
      "Iter: 12, Energy: -7.858098555416826\n",
      "Iter: 13, Energy: -7.858752994842388\n",
      "Iter: 14, Energy: -7.859330093800586\n",
      "Iter: 15, Energy: -7.859831220815301\n",
      "Iter: 16, Energy: -7.860251346021681\n",
      "Iter: 17, Energy: -7.860591879488661\n",
      "Iter: 18, Energy: -7.86084710093724\n",
      "Iter: 19, Energy: -7.8610219734011695\n",
      "Bond Length: 3.9000000000000017\n",
      "Iter: 0, Energy: -7.823889816776658\n",
      "Iter: 1, Energy: -7.829245897995837\n",
      "Iter: 2, Energy: -7.832807180568137\n",
      "Iter: 3, Energy: -7.83555045005614\n",
      "Iter: 4, Energy: -7.837733402518759\n",
      "Iter: 5, Energy: -7.839478014354442\n",
      "Iter: 6, Energy: -7.840904933804938\n",
      "Iter: 7, Energy: -7.8422334363224\n",
      "Iter: 8, Energy: -7.8437109664533216\n",
      "Iter: 9, Energy: -7.8452064201673375\n",
      "Iter: 10, Energy: -7.84648542843894\n",
      "Iter: 11, Energy: -7.847557829447524\n",
      "Iter: 12, Energy: -7.848467925885569\n",
      "Iter: 13, Energy: -7.849254652434444\n",
      "Iter: 14, Energy: -7.846944501127669\n",
      "Iter: 15, Energy: -7.834633616573598\n",
      "Iter: 16, Energy: -7.845507017166033\n",
      "Iter: 17, Energy: -7.843188772934986\n",
      "Iter: 18, Energy: -7.838637624012198\n",
      "Iter: 19, Energy: -7.8424364156450865\n"
     ]
    }
   ],
   "source": [
    "# Get Morse Curve\n",
    "hf_energy = np.zeros(len(bond_length_arr))\n",
    "vqe_uccsd_energy = np.zeros(len(bond_length_arr))\n",
    "vqe_params = []\n",
    "vqe_energy_hist = []\n",
    "vqe_params_hist = []\n",
    "\n",
    "for bond_iter in range(len(bond_length_arr)):\n",
    "    print(f\"Bond Length: {bond_length_arr[bond_iter]}\")\n",
    "    if bond_iter != 0:\n",
    "        # Get LiH Molecule at a different interatomic distance\n",
    "        mol_symbols, coords, charge, num_elec = getmol.get_molecule(mol_name, bond_length_arr[bond_iter])\n",
    "        mol_ham, num_qubits = qml.qchem.molecular_hamiltonian(symbols=mol_symbols, coordinates=coords, name=mol_full_name ,charge=charge, basis='STO-3G')\n",
    "\n",
    "    # Prepare Cost Function\n",
    "    cost_fn = qml.ExpvalCost(uccsd_ansatz, mol_ham, dev, optimize=True)\n",
    "\n",
    "    # Set Initial Parameters and Gradient\n",
    "    params = plnp.zeros(len(disentangle_order), requires_grad=True)\n",
    "    params_hist = [params]\n",
    "    energy_hist = []\n",
    "\n",
    "    # Perform VQE\n",
    "    for step in range(max_steps):\n",
    "        params, energy = optimiser_rm.step_and_cost(cost_fn, params, excitations=disentangle_order)\n",
    "        energy_hist.append(energy)\n",
    "        params_hist.append(params)\n",
    "        print(f\"Iter: {step}, Energy: {energy}\")\n",
    "    \n",
    "    # Get the minimum point\n",
    "    hf_energy[bond_iter] += energy_hist[0]\n",
    "    min_energy_ind = np.argmin(np.asarray(energy_hist))\n",
    "    vqe_uccsd_energy[bond_iter] += energy_hist[min_energy_ind]\n",
    "    vqe_params.append(params_hist[min_energy_ind])\n",
    "    \n",
    "    vqe_energy_hist.append(energy_hist)\n",
    "    vqe_params_hist.append(params_hist)"
   ]
  },
  {
   "cell_type": "code",
   "execution_count": 20,
   "id": "40579a2a",
   "metadata": {},
   "outputs": [],
   "source": [
    "# Obtain from Psi4 Quantum Chemistry Package\n",
    "hf_reference_lih = [-7.812411155346402,\n",
    " -7.839068341831627,\n",
    " -7.854526359912784,\n",
    " -7.86186851506325,\n",
    " -7.863267217418352,\n",
    " -7.860292959044385,\n",
    " -7.854103891723638,\n",
    " -7.845565339316465,\n",
    " -7.835329240190782,\n",
    " -7.8238898167691895]\n",
    "\n",
    "fci_reference_lih = [-7.829190380304306,\n",
    " -7.8559216997297945,\n",
    " -7.8718479492795295,\n",
    " -7.880059987812027,\n",
    " -7.882733820448256,\n",
    " -7.881446657570021,\n",
    " -7.877369237131805,\n",
    " -7.8713858825968375,\n",
    " -7.864173578251663,\n",
    " -7.85625676877341]"
   ]
  },
  {
   "cell_type": "markdown",
   "id": "77479ba9",
   "metadata": {},
   "source": [
    "### Results"
   ]
  },
  {
   "cell_type": "code",
   "execution_count": 35,
   "id": "d9908cc0",
   "metadata": {},
   "outputs": [
    {
     "data": {
      "text/plain": [
       "<matplotlib.legend.Legend at 0x7fcf0159a710>"
      ]
     },
     "execution_count": 35,
     "metadata": {},
     "output_type": "execute_result"
    },
    {
     "data": {
      "image/png": "[encoded data removed]",
      "text/plain": [
       "<Figure size 432x288 with 1 Axes>"
      ]
     },
     "metadata": {
      "needs_background": "light"
     },
     "output_type": "display_data"
    }
   ],
   "source": [
    "fig, ax = plt.subplots()\n",
    "ax.scatter(bond_length_arr[1:],vqe_uccsd_energy[1:], label='Problem-Inspired Ansatz', color='r')\n",
    "ax.plot(bond_length_arr,hf_reference_lih, label='Hartree-Fock Energy',color='b')\n",
    "ax.plot(bond_length_arr,fci_reference_lih,label='Reference Energy', color='k')\n",
    "ax.set_xlabel('Li-H Bond Length (Bohr)')\n",
    "ax.set_ylabel('Electronic Energy (Hartree)')\n",
    "ax.set_title(r'$LiH$ Morse Curve (STO-3G)'+f'\\n Using Problem-Inspired Ansatz with PennyLane')\n",
    "ax.legend()"
   ]
  },
  {
   "cell_type": "markdown",
   "id": "027ae669",
   "metadata": {},
   "source": [
    "### Discussion\n",
    "\n",
    "Using our problem-inspired ansatz with PennyLane, we obtained a good energy convergence with a clear minimum at 2.9 Bohr with an estimated energy of -7.8804134 Hartree which is close to corresponding reference energy of -7.8827338 Hartree."
   ]
  },
  {
   "cell_type": "code",
   "execution_count": 23,
   "id": "5dccf242",
   "metadata": {},
   "outputs": [
    {
     "name": "stdout",
     "output_type": "stream",
     "text": [
      "Saving Data to: lih_morse_vqe.json\n"
     ]
    }
   ],
   "source": [
    "# save_data = {}\n",
    "# save_data['header_names'] = ['bond_length', 'fci_ref_energy', 'hf_ref_energy', 'vqe_uccsd_energy', 'vqe_params', 'vqe_energy_hist', 'vqe_params_hist', ]\n",
    "# save_data['bond_length'] = bond_length_arr\n",
    "# save_data['fci_ref_energy'] = fci_reference_lih\n",
    "# save_data['hf_ref_energy'] = hf_reference_lih\n",
    "# save_data['vqe_uccsd_energy'] = vqe_uccsd_energy\n",
    "# save_data['vqe_params'] = vqe_params\n",
    "# save_data['vqe_energy_hist'] = vqe_energy_hist\n",
    "# save_data['vqe_params_hist'] = vqe_params_hist\n",
    "# getjson.save_to_json('lih_morse_vqe.json',save_data)"
   ]
  },
  {
   "cell_type": "markdown",
   "id": "02d64e9c",
   "metadata": {},
   "source": [
    "### Qamuy PES Implementation"
   ]
  },
  {
   "cell_type": "code",
   "execution_count": 24,
   "id": "83310672",
   "metadata": {},
   "outputs": [],
   "source": [
    "import qamuy.chemistry as qy\n",
    "from qamuy.client import Client"
   ]
  },
  {
   "cell_type": "code",
   "execution_count": 26,
   "id": "2427511d",
   "metadata": {},
   "outputs": [],
   "source": [
    "# Define the array of bond lenghts\n",
    "step_size_ = 0.2\n",
    "min_length_ = 2.1\n",
    "max_length_ = 3.9\n",
    "bond_length_arr_ = 0.529177249 * np.arange(min_length_,max_length_+step_size_, step_size_) # Convert to Angstroms\n",
    "\n",
    "# Create Lithium Hydride\n",
    "mol_name = 'lih'\n",
    "mol_symbols, coords, charge, num_elec = getmol.get_molecule(mol_name, bond_length_arr_[0])\n",
    "new_coords = coords.reshape((2,3)).tolist()\n",
    "setting = qy.QamuyChemistryInput()\n",
    "molecule = setting.target_molecule\n",
    "molecule.geometry = qy.molecule_geometry(mol_symbols, new_coords)\n",
    "molecule.basis = \"sto-3g\"\n",
    "molecule.multiplicity = 1\n",
    "molecule.num_excited_states = 0\n",
    "\n",
    "# Set Fermion to Spin Mapping\n",
    "setting.mapping.type = \"JORDAN_WIGNER\"\n",
    "\n",
    "# Set Quantum Algorithm \n",
    "setting.solver.type = \"VQE\"\n",
    "\n",
    "# Set cost function\n",
    "setting.cost_function.type = \"NONE\"\n",
    "\n",
    "# Set ansatz\n",
    "setting.ansatz.type = \"UCCSD\"\n",
    "setting.ansatz.trotter_steps = 1\n",
    "setting.ansatz.reference_state = 'RHF'\n",
    "setting.ansatz.initial_parameter = [0]\n",
    "setting.ansatz.use_random_initial_guess = False\n",
    "\n",
    "# My Optimiser\n",
    "setting.optimizer.type = \"BFGS\"\n",
    "\n",
    "# Quantum Device\n",
    "setting.quantum_device.type = \"EXACT_SIMULATOR\"\n",
    "\n",
    "# Ab Inito Calculation For Reference\n",
    "setting.post_hf_methods.append(qy.PostHFMethod(type=\"FCI\"))"
   ]
  },
  {
   "cell_type": "code",
   "execution_count": 27,
   "id": "4260f826",
   "metadata": {},
   "outputs": [],
   "source": [
    "# Prepare Inputs for Jobs Submission\n",
    "jobs = []\n",
    "for distance in bond_length_arr_:\n",
    "    new_input = copy.deepcopy(setting)\n",
    "    mol_symbols, coords, charge, num_elec = getmol.get_molecule(mol_name, distance)\n",
    "    new_coords = coords.reshape((2,3)).tolist()\n",
    "    new_input.target_molecule.geometry = qy.molecule_geometry(mol_symbols, new_coords)\n",
    "    jobs.append(client.submit(new_input))"
   ]
  },
  {
   "cell_type": "code",
   "execution_count": 28,
   "id": "d03675d6",
   "metadata": {},
   "outputs": [
    {
     "name": "stderr",
     "output_type": "stream",
     "text": [
      "[Parallel(n_jobs=-1)]: Using backend ThreadingBackend with 10 concurrent workers.\n",
      "[Parallel(n_jobs=-1)]: Done   3 out of  10 | elapsed: 29.2min remaining: 68.2min\n",
      "[Parallel(n_jobs=-1)]: Done   5 out of  10 | elapsed: 61.2min remaining: 61.2min\n",
      "[Parallel(n_jobs=-1)]: Done   7 out of  10 | elapsed: 81.5min remaining: 34.9min\n",
      "[Parallel(n_jobs=-1)]: Done  10 out of  10 | elapsed: 122.7min finished\n"
     ]
    }
   ],
   "source": [
    "# Submit Jobs for computation\n",
    "results = client.wait_and_get_job_results(jobs)\n",
    "outputs = [res.output for res in results]"
   ]
  },
  {
   "cell_type": "markdown",
   "id": "47b383fb",
   "metadata": {},
   "source": [
    "### Results"
   ]
  },
  {
   "cell_type": "code",
   "execution_count": 30,
   "id": "7c161a60",
   "metadata": {},
   "outputs": [
    {
     "data": {
      "text/plain": [
       "<matplotlib.legend.Legend at 0x7fce17ac3b10>"
      ]
     },
     "execution_count": 30,
     "metadata": {},
     "output_type": "execute_result"
    },
    {
     "data": {
      "image/png": "[encoded data removed]",
      "text/plain": [
       "<Figure size 432x288 with 1 Axes>"
      ]
     },
     "metadata": {
      "needs_background": "light"
     },
     "output_type": "display_data"
    }
   ],
   "source": [
    "# Collate the Results\n",
    "hf_energy_qamuy = np.zeros(len(bond_length_arr_))\n",
    "ref_energy_qamuy = np.zeros(len(bond_length_arr_))\n",
    "uccsd_energy_qamuy = np.zeros(len(bond_length_arr_))\n",
    "for i in range(len(bond_length_arr_)):\n",
    "    hf_energy = outputs[i].molecule_result.hf_result.evaluated_properties[0].energy.values[0].value\n",
    "    ref_energy = outputs[i].molecule_result.post_hf_results[0].evaluated_properties[0].energy.values[0].value\n",
    "    uccsd_energy = outputs[i].molecule_result.quantum_device_result.evaluated_properties[0].energy.values[0].value\n",
    "    hf_energy_qamuy[i] = hf_energy\n",
    "    ref_energy_qamuy[i] = ref_energy\n",
    "    uccsd_energy_qamuy[i] = uccsd_energy\n",
    "\n",
    "# Plot the Results\n",
    "fig2, ax2 = plt.subplots()\n",
    "ax2.scatter(bond_length_arr_/0.529177249,uccsd_energy_qamuy, label='UCCSD Energy', color='r')\n",
    "# ax2.plot(bond_length_arr_/0.529177249,hf_energy_qamuy, label='Hartree-Fock Energy', color='b')\n",
    "ax2.plot(bond_length_arr_/0.529177249,ref_energy_qamuy, label='Reference Energy', color='k')\n",
    "ax2.set_xlabel(r\"$Li-H$ Bond Length (Bohr)\")\n",
    "ax2.set_ylabel(\"Electronic Energy (Hartree)\")\n",
    "ax2.set_title(\"Lithium Hydride Morse Curve (STO-3G)\\nUsing Qamuy\")\n",
    "ax2.legend()"
   ]
  },
  {
   "cell_type": "markdown",
   "id": "6d1c9709",
   "metadata": {},
   "source": [
    "### Discussion"
   ]
  },
  {
   "cell_type": "markdown",
   "id": "f061b7a2",
   "metadata": {},
   "source": [
    "Using Qamuy, its UCCSD ansatz have remarkable argreement with the reference energy. The Lithium Hydride Morse Curve shows a clear minimum around 2.9 Bohr at -7.8827240 Hartree which is extremely close to the reference energy of -7.8827338 Hartree up to the $4^{th}$ decimal place. This shows that both its UCCSD ansatz and VQE optimiser works extremely well in this example. "
   ]
  },
  {
   "cell_type": "code",
   "execution_count": null,
   "id": "add45a44",
   "metadata": {},
   "outputs": [],
   "source": []
  }
 ],
 "metadata": {
  "kernelspec": {
   "display_name": "Python 3 (ipykernel)",
   "language": "python",
   "name": "python3"
  },
  "language_info": {
   "codemirror_mode": {
    "name": "ipython",
    "version": 3
   },
   "file_extension": ".py",
   "mimetype": "text/x-python",
   "name": "python",
   "nbconvert_exporter": "python",
   "pygments_lexer": "ipython3",
   "version": "3.7.11"
  }
 },
 "nbformat": 4,
 "nbformat_minor": 5
}
