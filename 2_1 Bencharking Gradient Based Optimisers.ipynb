{
 "cells": [
  {
   "cell_type": "markdown",
   "id": "bf0fb52d",
   "metadata": {},
   "source": [
    "# Benchmarking Gradient Based Optimisers\n",
    "\n",
    "To prepare ourselves to perform VQE on bigger molecules and ansatz with many variational parameters, it is important to find a good classical optimisers to ensure fast convergence to the optimal solution. We shall reuse Hydrogen Molecule benchmark the basic gradient descent optimiser against several other PennyLane-provided Gradient-Based optimisers for VQE:\n",
    "\n",
    "- GradientDescentOptimizer\n",
    "- AdagradOptimizer\n",
    "- AdamOptimizer\n",
    "- MomentumOptimizer\n",
    "- NesterovMomentumOptimizer\n",
    "- QNGOptimizer\n",
    "- RMSPropOptimizer\n",
    "\n",
    "As seen from previous notebook, the hydrogen molecule VQE posed no challenge to Qamuy. Yet, it is wise to prepare ourselves for larger molecule by doing a simple benchmarking exercise. Therefore, we shall perform a bigger molecule, Tetra-Hydrogen $H_4$ Molecule VQE that uses 8 qubits, to benchmark the following optimisers available in [QAMUY](https://qamuy.qunasys.com/docs/en/):\n",
    "\n",
    "- BFGS\n",
    "- BFGS_FTOL\n",
    "- L_BFGS_B\n",
    "- POWELL\n",
    "- CG\n",
    "- TNC\n",
    "- SLSQP\n",
    "- ADAM"
   ]
  },
  {
   "cell_type": "markdown",
   "id": "7cb03ab6",
   "metadata": {},
   "source": [
    "### Setting Up VQE in PennyLane"
   ]
  },
  {
   "cell_type": "code",
   "execution_count": 20,
   "id": "fda2ebe7-99e4-4c26-b97f-3289d0055935",
   "metadata": {},
   "outputs": [],
   "source": [
    "# Native Lib\n",
    "import itertools as it\n",
    "import copy\n",
    "\n",
    "# External Lib\n",
    "import pennylane as qml\n",
    "import numpy as np\n",
    "from pennylane import numpy as plnp\n",
    "import matplotlib.pyplot as plt\n",
    "\n",
    "# qanything Lib\n",
    "import qanything.get_index as getind\n",
    "import qanything.get_molecule as getmol\n",
    "import qanything.get_json as getjson"
   ]
  },
  {
   "cell_type": "code",
   "execution_count": 2,
   "id": "9cc9cb7b",
   "metadata": {},
   "outputs": [
    {
     "name": "stderr",
     "output_type": "stream",
     "text": [
      "/Users/cheechonghian/miniconda3/envs/mypenny/lib/python3.7/site-packages/pyscf/lib/misc.py:46: H5pyDeprecationWarning: Using default_file_mode other than 'r' is deprecated. Pass the mode to h5py.File() instead.\n",
      "  h5py.get_config().default_file_mode = 'a'\n"
     ]
    }
   ],
   "source": [
    "# Create the Hydrogen Molecule\n",
    "mol_name = 'h2'\n",
    "mol_full_name = 'hydrogen molecule'\n",
    "bond_length = 1.4\n",
    "mol_symbols, coords, charge, num_elec = getmol.get_molecule(mol_name, bond_length)\n",
    "\n",
    "# Get the Molecular Hamiltonian (Using Jordan-Wigner)\n",
    "mol_ham, num_qubits = qml.qchem.molecular_hamiltonian(symbols=mol_symbols, coordinates=coords, name=mol_full_name ,charge=charge)\n",
    "\n",
    "# Get the Orbital and Single and Double Excitation Index \n",
    "occupied_index, single_index, double_index = getind.generate_excite_index(num_qubits, num_elec)\n",
    "\n",
    "# Get the Disentangled Unitary Coupled Cluster Single Doubles (UCCSD) Excitation Sequence \n",
    "disentangle_order = getind.generate_disentanglement_order(occupied_index, single_index, double_index)\n",
    "\n",
    "# Get the Hartree-Fock State\n",
    "hf = qml.qchem.hf_state(electrons=num_elec, orbitals=num_qubits)\n",
    "\n",
    "# Prepare the problem-inspired ansatz based on the Disentangled Sequence\n",
    "def uccsd_ansatz(params, wires, excitations):\n",
    "    qml.BasisState(hf, wires=wires)\n",
    "    for i, excitation in enumerate(excitations):\n",
    "        if len(excitation) == 4:\n",
    "            qml.DoubleExcitation(params[i], wires=excitation)\n",
    "        else:\n",
    "            qml.SingleExcitation(params[i], wires=excitation)\n",
    "\n",
    "# Prepare a device, cost function and optimiser\n",
    "dev = qml.device(\"default.qubit\", wires=num_qubits)  # Statevector Device\n",
    "cost_fn = qml.ExpvalCost(uccsd_ansatz, mol_ham, dev, optimize=True)  # Cost Function\n",
    "max_steps = 100"
   ]
  },
  {
   "cell_type": "markdown",
   "id": "22a83d27",
   "metadata": {},
   "source": [
    "### Benchmarking PennyLane Optimisers"
   ]
  },
  {
   "cell_type": "markdown",
   "id": "a92410a1",
   "metadata": {},
   "source": [
    "### Gradient Descent Optimiser"
   ]
  },
  {
   "cell_type": "code",
   "execution_count": 3,
   "id": "648c5ca5",
   "metadata": {},
   "outputs": [
    {
     "name": "stdout",
     "output_type": "stream",
     "text": [
      "Iter: 1, Energy: -1.116714325063832\n",
      "Iter: 10, Energy: -1.1194808918547907\n",
      "Iter: 20, Energy: -1.1221246714906385\n",
      "Iter: 30, Energy: -1.1243788599312177\n",
      "Iter: 40, Energy: -1.126299987480848\n",
      "Iter: 50, Energy: -1.1279366253161764\n",
      "Iter: 60, Energy: -1.1293304382341816\n",
      "Iter: 70, Energy: -1.1305171174252007\n",
      "Iter: 80, Energy: -1.1315272011993793\n",
      "Iter: 90, Energy: -1.132386793026507\n",
      "Iter: 100, Energy: -1.1331181868036744\n"
     ]
    }
   ],
   "source": [
    "# Basic Gradient Descent\n",
    "optimiser_gd = qml.GradientDescentOptimizer()  \n",
    "\n",
    "# Set Initial Parameters and Calculate Initial Energy and Gradient\n",
    "params = plnp.zeros(len(disentangle_order), requires_grad=True)\n",
    "grads = qml.grad(cost_fn)(params, excitations=disentangle_order)\n",
    "gd_params_hist = plnp.zeros((max_steps,len(params)))\n",
    "gd_params_hist[0] = params\n",
    "gd_energy_hist = np.zeros(max_steps)\n",
    "\n",
    "# Perform VQE\n",
    "for step in range(max_steps):\n",
    "    params, energy = optimiser_gd.step_and_cost(cost_fn, params, excitations=disentangle_order)\n",
    "    gd_energy_hist[step] = energy\n",
    "    gd_params_hist[step] = params\n",
    "    if (step+1)%10 == 0:\n",
    "        print(f\"Iter: {step+1}, Energy: {energy}\")\n",
    "    elif step == 0:\n",
    "        print(f\"Iter: {step+1}, Energy: {energy}\")"
   ]
  },
  {
   "cell_type": "markdown",
   "id": "d2a5ba2c",
   "metadata": {},
   "source": [
    "### Adagrad Optimiser"
   ]
  },
  {
   "cell_type": "code",
   "execution_count": 4,
   "id": "81537fd1",
   "metadata": {},
   "outputs": [
    {
     "name": "stdout",
     "output_type": "stream",
     "text": [
      "Iter: 1, Energy: -1.116714325063832\n",
      "Iter: 10, Energy: -1.1240814264400965\n",
      "Iter: 20, Energy: -1.1272936175675705\n",
      "Iter: 30, Energy: -1.1293321153061757\n",
      "Iter: 40, Energy: -1.1307960775592905\n",
      "Iter: 50, Energy: -1.1319101234871383\n",
      "Iter: 60, Energy: -1.1327871653468837\n",
      "Iter: 70, Energy: -1.1334931823706553\n",
      "Iter: 80, Energy: -1.1340705023046953\n",
      "Iter: 90, Energy: -1.1345480678039879\n",
      "Iter: 100, Energy: -1.1349466053058281\n"
     ]
    }
   ],
   "source": [
    "# Repeat VQE using Adagrad\n",
    "optimiser_ag = qml.AdagradOptimizer()\n",
    "\n",
    "# Set Initial Parameters and Calculate Initial Energy and Gradient\n",
    "params = plnp.zeros(len(disentangle_order), requires_grad=True)\n",
    "grads = qml.grad(cost_fn)(params, excitations=disentangle_order)\n",
    "ag_params_hist = plnp.zeros((max_steps,len(params)))\n",
    "ag_params_hist[0] = params\n",
    "ag_energy_hist = np.zeros(max_steps)\n",
    "\n",
    "# Perform VQE\n",
    "for step in range(max_steps):\n",
    "    params, energy = optimiser_ag.step_and_cost(cost_fn, params, excitations=disentangle_order)\n",
    "    ag_energy_hist[step] = energy\n",
    "    ag_params_hist[step] = params\n",
    "    if (step+1)%10 == 0:\n",
    "        print(f\"Iter: {step+1}, Energy: {energy}\")\n",
    "    elif step == 0:\n",
    "        print(f\"Iter: {step+1}, Energy: {energy}\")"
   ]
  },
  {
   "cell_type": "markdown",
   "id": "896430c4",
   "metadata": {},
   "source": [
    "### Adam Optimiser"
   ]
  },
  {
   "cell_type": "code",
   "execution_count": 5,
   "id": "ed6e6832",
   "metadata": {},
   "outputs": [
    {
     "name": "stdout",
     "output_type": "stream",
     "text": [
      "Iter: 1, Energy: -1.116714325063832\n",
      "Iter: 10, Energy: -1.1296615512684802\n",
      "Iter: 20, Energy: -1.1362438780372983\n",
      "Iter: 30, Energy: -1.1372542010463873\n",
      "Iter: 40, Energy: -1.137010764046784\n",
      "Iter: 50, Energy: -1.137173729309327\n",
      "Iter: 60, Energy: -1.137275762381213\n",
      "Iter: 70, Energy: -1.1372628704162342\n",
      "Iter: 80, Energy: -1.1372721696831931\n",
      "Iter: 90, Energy: -1.1372756751882864\n",
      "Iter: 100, Energy: -1.137275136523455\n"
     ]
    }
   ],
   "source": [
    "# Repeat VQE using Adam\n",
    "optimiser_ad = qml.AdamOptimizer()\n",
    "\n",
    "# Set Initial Parameters and Calculate Initial Energy and Gradient\n",
    "params = plnp.zeros(len(disentangle_order), requires_grad=True)\n",
    "grads = qml.grad(cost_fn)(params, excitations=disentangle_order)\n",
    "ad_params_hist = plnp.zeros((max_steps,len(params)))\n",
    "ad_params_hist[0] = params\n",
    "ad_energy_hist = np.zeros(max_steps)\n",
    "\n",
    "# Perform VQE\n",
    "for step in range(max_steps):\n",
    "    params, energy = optimiser_ad.step_and_cost(cost_fn, params, excitations=disentangle_order)\n",
    "    ad_energy_hist[step] = energy\n",
    "    ad_params_hist[step] = params\n",
    "    if (step+1)%10 == 0:\n",
    "        print(f\"Iter: {step+1}, Energy: {energy}\")\n",
    "    elif step == 0:\n",
    "        print(f\"Iter: {step+1}, Energy: {energy}\")"
   ]
  },
  {
   "cell_type": "markdown",
   "id": "7b7fe4d2",
   "metadata": {},
   "source": [
    "### Momentum Optimiser"
   ]
  },
  {
   "cell_type": "code",
   "execution_count": 6,
   "id": "f2c31639",
   "metadata": {},
   "outputs": [
    {
     "name": "stdout",
     "output_type": "stream",
     "text": [
      "Iter: 1, Energy: -1.116714325063832\n",
      "Iter: 10, Energy: -1.1261231271495138\n",
      "Iter: 20, Energy: -1.1356168383420238\n",
      "Iter: 30, Energy: -1.137272234121366\n",
      "Iter: 40, Energy: -1.1370245637503873\n",
      "Iter: 50, Energy: -1.1371090753032842\n",
      "Iter: 60, Energy: -1.1372452153728452\n",
      "Iter: 70, Energy: -1.1372758827371876\n",
      "Iter: 80, Energy: -1.137272980507658\n",
      "Iter: 90, Energy: -1.137273505858157\n",
      "Iter: 100, Energy: -1.137275399066614\n"
     ]
    }
   ],
   "source": [
    "# Repeat VQE using Momentum\n",
    "optimiser_mo = qml.MomentumOptimizer()\n",
    "\n",
    "# Set Initial Parameters and Calculate Initial Energy and Gradient\n",
    "params = plnp.zeros(len(disentangle_order), requires_grad=True)\n",
    "grads = qml.grad(cost_fn)(params, excitations=disentangle_order)\n",
    "mo_params_hist = plnp.zeros((max_steps,len(params)))\n",
    "mo_params_hist[0] = params\n",
    "mo_energy_hist = np.zeros(max_steps)\n",
    "\n",
    "# Perform VQE\n",
    "for step in range(max_steps):\n",
    "    params, energy = optimiser_mo.step_and_cost(cost_fn, params, excitations=disentangle_order)\n",
    "    mo_energy_hist[step] = energy\n",
    "    mo_params_hist[step] = params\n",
    "    if (step+1)%10 == 0:\n",
    "        print(f\"Iter: {step+1}, Energy: {energy}\")\n",
    "    elif step == 0:\n",
    "        print(f\"Iter: {step+1}, Energy: {energy}\")"
   ]
  },
  {
   "cell_type": "markdown",
   "id": "cd040fec",
   "metadata": {},
   "source": [
    "### Nesterov Momentum"
   ]
  },
  {
   "cell_type": "code",
   "execution_count": 7,
   "id": "1ad71bb5",
   "metadata": {},
   "outputs": [
    {
     "name": "stdout",
     "output_type": "stream",
     "text": [
      "Iter: 1, Energy: -1.116714325063832\n",
      "Iter: 10, Energy: -1.1271284608351326\n",
      "Iter: 20, Energy: -1.1357772964199706\n",
      "Iter: 30, Energy: -1.1372758660334001\n",
      "Iter: 40, Energy: -1.137126824761023\n",
      "Iter: 50, Energy: -1.1371678327390613\n",
      "Iter: 60, Energy: -1.1372524083363311\n",
      "Iter: 70, Energy: -1.1372753773551971\n",
      "Iter: 80, Energy: -1.1372750891808825\n",
      "Iter: 90, Energy: -1.1372748988024832\n",
      "Iter: 100, Energy: -1.1372756236450963\n"
     ]
    }
   ],
   "source": [
    "# Repeat VQE using Nesterov Momentum\n",
    "optimiser_ne = qml.NesterovMomentumOptimizer()\n",
    "\n",
    "# Set Initial Parameters and Calculate Initial Energy and Gradient\n",
    "params = plnp.zeros(len(disentangle_order), requires_grad=True)\n",
    "grads = qml.grad(cost_fn)(params, excitations=disentangle_order)\n",
    "ne_params_hist = plnp.zeros((max_steps,len(params)))\n",
    "ne_params_hist[0] = params\n",
    "ne_energy_hist = np.zeros(max_steps)\n",
    "\n",
    "# Perform VQE\n",
    "for step in range(max_steps):\n",
    "    params, energy = optimiser_ne.step_and_cost(cost_fn, params, excitations=disentangle_order)\n",
    "    ne_energy_hist[step] = energy\n",
    "    ne_params_hist[step] = params\n",
    "    if (step+1)%10 == 0:\n",
    "        print(f\"Iter: {step+1}, Energy: {energy}\")\n",
    "    elif step == 0:\n",
    "        print(f\"Iter: {step+1}, Energy: {energy}\")"
   ]
  },
  {
   "cell_type": "markdown",
   "id": "ba07c3d9",
   "metadata": {},
   "source": [
    "### QNG Optimiser"
   ]
  },
  {
   "cell_type": "code",
   "execution_count": 8,
   "id": "049bec5a",
   "metadata": {},
   "outputs": [
    {
     "name": "stdout",
     "output_type": "stream",
     "text": [
      "Iter: 1, Energy: -1.116714325063832\n",
      "Iter: 10, Energy: -1.1258367718101239\n",
      "Iter: 20, Energy: -1.1313312601081291\n",
      "Iter: 30, Energy: -1.1341918587449222\n",
      "Iter: 40, Energy: -1.1356773397310758\n",
      "Iter: 50, Energy: -1.136447702821736\n",
      "Iter: 60, Energy: -1.136846931743156\n",
      "Iter: 70, Energy: -1.137053751520683\n",
      "Iter: 80, Energy: -1.1371608741136627\n",
      "Iter: 90, Energy: -1.137216353046455\n",
      "Iter: 100, Energy: -1.1372450842205444\n"
     ]
    }
   ],
   "source": [
    "# Repeat VQE using QNGOptimizer\n",
    "optimiser_qn = qml.QNGOptimizer()\n",
    "\n",
    "# Set Initial Parameters and Calculate Initial Energy and Gradient\n",
    "params = plnp.zeros(len(disentangle_order), requires_grad=True)\n",
    "grads = qml.grad(cost_fn)(params, excitations=disentangle_order)\n",
    "qn_params_hist = plnp.zeros((max_steps,len(params)))\n",
    "qn_params_hist[0] = params\n",
    "qn_energy_hist = np.zeros(max_steps)\n",
    "\n",
    "# Perform VQE\n",
    "for step in range(max_steps):\n",
    "    params, energy = optimiser_qn.step_and_cost(cost_fn, params, excitations=disentangle_order)\n",
    "    qn_energy_hist[step] = energy\n",
    "    qn_params_hist[step] = params\n",
    "    if (step+1)%10 == 0:\n",
    "        print(f\"Iter: {step+1}, Energy: {energy}\")\n",
    "    elif step == 0:\n",
    "        print(f\"Iter: {step+1}, Energy: {energy}\")"
   ]
  },
  {
   "cell_type": "markdown",
   "id": "08d055cb",
   "metadata": {},
   "source": [
    "### RMSProp Optimiser"
   ]
  },
  {
   "cell_type": "code",
   "execution_count": 9,
   "id": "c7719229",
   "metadata": {},
   "outputs": [
    {
     "name": "stdout",
     "output_type": "stream",
     "text": [
      "Iter: 1, Energy: -1.116714325063832\n",
      "Iter: 10, Energy: -1.1340433056754216\n",
      "Iter: 20, Energy: -1.1369267753595036\n",
      "Iter: 30, Energy: -1.1372626331903968\n",
      "Iter: 40, Energy: -1.1372748473649217\n",
      "Iter: 50, Energy: -1.1372655413942243\n",
      "Iter: 60, Energy: -1.1372642284218457\n",
      "Iter: 70, Energy: -1.137269598421244\n",
      "Iter: 80, Energy: -1.1372684291426467\n",
      "Iter: 90, Energy: -1.137266659559804\n",
      "Iter: 100, Energy: -1.137266762936945\n"
     ]
    }
   ],
   "source": [
    "# Repeat VQE using RMSPropOptimizer\n",
    "optimiser_rm = qml.RMSPropOptimizer()\n",
    "\n",
    "# Set Initial Parameters and Calculate Initial Energy and Gradient\n",
    "params = plnp.zeros(len(disentangle_order), requires_grad=True)\n",
    "grads = qml.grad(cost_fn)(params, excitations=disentangle_order)\n",
    "rm_params_hist = plnp.zeros((max_steps,len(params)))\n",
    "rm_params_hist[0] = params\n",
    "rm_energy_hist = np.zeros(max_steps)\n",
    "\n",
    "# Perform VQE\n",
    "for step in range(max_steps):\n",
    "    params, energy = optimiser_rm.step_and_cost(cost_fn, params, excitations=disentangle_order)\n",
    "    rm_energy_hist[step] = energy\n",
    "    rm_params_hist[step] = params\n",
    "    if (step+1)%10 == 0:\n",
    "        print(f\"Iter: {step+1}, Energy: {energy}\")\n",
    "    elif step == 0:\n",
    "        print(f\"Iter: {step+1}, Energy: {energy}\")"
   ]
  },
  {
   "cell_type": "markdown",
   "id": "21d47e05",
   "metadata": {},
   "source": [
    "### Results"
   ]
  },
  {
   "cell_type": "code",
   "execution_count": 15,
   "id": "ee7d485d",
   "metadata": {},
   "outputs": [
    {
     "data": {
      "text/plain": [
       "<matplotlib.legend.Legend at 0x7faab86290d0>"
      ]
     },
     "execution_count": 15,
     "metadata": {},
     "output_type": "execute_result"
    },
    {
     "data": {
      "image/png": "[encoded data removed]",
      "text/plain": [
       "<Figure size 432x288 with 1 Axes>"
      ]
     },
     "metadata": {
      "needs_background": "light"
     },
     "output_type": "display_data"
    }
   ],
   "source": [
    "fig, ax = plt.subplots()\n",
    "\n",
    "limit_step = 100\n",
    "ax.plot(np.arange(0,max_steps)[:limit_step],gd_energy_hist[:limit_step], label='GD')\n",
    "ax.plot(np.arange(0,max_steps)[:limit_step],ag_energy_hist[:limit_step], label='Adagrad')\n",
    "ax.plot(np.arange(0,max_steps)[:limit_step],ad_energy_hist[:limit_step], label='Adam')\n",
    "ax.plot(np.arange(0,max_steps)[:limit_step],mo_energy_hist[:limit_step], label='Momentum')\n",
    "ax.plot(np.arange(0,max_steps)[:limit_step],ne_energy_hist[:limit_step], label='Nesterov')\n",
    "ax.plot(np.arange(0,max_steps)[:limit_step],qn_energy_hist[:limit_step], label='QNG')\n",
    "ax.plot(np.arange(0,max_steps)[:limit_step],rm_energy_hist[:limit_step], label='RMSProp')\n",
    "ax.axhline(y=-1.1372759436170639, color='r', linestyle='--', label=\"Reference\")\n",
    "ax.set_xlabel('Optimiser Step')\n",
    "ax.set_ylabel('Electronic Energy (Hartree)')\n",
    "ax.set_title(r'Energy Optimisation of $H_2$ at 1.4 Bohr'+ f'\\nwith Various Gradient-Based Optimiser')\n",
    "ax.legend()\n",
    "fig.savefig('h2_benchmark_penny_opt.png', format='png')"
   ]
  },
  {
   "cell_type": "markdown",
   "id": "7cc5bf77",
   "metadata": {},
   "source": [
    "### Discussion\n",
    "The graph above shows that RMSProp & Adam Optimisers are among the fastest optimiser while the Adagrad & basic gradient descent optimisers are among the slowest. Based on the current results, we decided to rank the optimisers based on the convergene rate and the convergence accuracy as follows:\n",
    "\n",
    "Optimiser Ranking:\n",
    "1. RMSProp\n",
    "2. Adam\n",
    "3. Nesterov\n",
    "4. Momentum\n",
    "5. QNG\n",
    "6. Adagrad\n",
    "7. Gradient Descent\n",
    "\n",
    "NOTE: THIS RANKING IS NOT A REPRESENTATIVE OF THE ACTUAL PERFORMANCE OF THESE OPTIMISERS. THIS RANKING IS FOR JUST THIS DEMONSTRATION ONLY."
   ]
  },
  {
   "cell_type": "code",
   "execution_count": 11,
   "id": "d3403096",
   "metadata": {},
   "outputs": [],
   "source": [
    "# # Saving Data\n",
    "# filename = 'vqe_hydrogen_numerical.json'\n",
    "# save_data = {}\n",
    "# save_data['header_names'] = ['meta','gd_energy_hist', \n",
    "# 'ag_energy_hist', \n",
    "# 'ad_energy_hist', \n",
    "# 'mo_energy_hist', \n",
    "# 'ne_energy_hist', \n",
    "# 'qn_energy_hist',\n",
    "# 'rm_energy_hist', \n",
    "# 'gd_params_hist', \n",
    "# 'ag_params_hist', \n",
    "# 'ad_params_hist', \n",
    "# 'mo_params_hist', \n",
    "# 'ne_params_hist', \n",
    "# 'qn_params_hist',\n",
    "# 'rm_params_hist',]\n",
    "# save_data['meta'] = {'gd': \"Gradient Descent\",\n",
    "# 'ag': \"Adagrad\",\n",
    "# 'ad': \"Adam\",\n",
    "# 'mo': \"Momentum\",\n",
    "# 'ne': \"Nesterov\",\n",
    "# 'qn': \"QNG\",\n",
    "# 'rm': \"RMSProp\",\n",
    "# 'stepsize' : 0.01}\n",
    "# save_data['gd_energy_hist'] = gd_energy_hist\n",
    "# save_data['ag_energy_hist'] = ag_energy_hist\n",
    "# save_data['ad_energy_hist'] = ad_energy_hist\n",
    "# save_data['mo_energy_hist'] = mo_energy_hist\n",
    "# save_data['ne_energy_hist'] = ne_energy_hist\n",
    "# save_data['qn_energy_hist'] = qn_energy_hist\n",
    "# save_data['rm_energy_hist'] = rm_energy_hist\n",
    "\n",
    "# save_data['gd_params_hist'] = gd_params_hist\n",
    "# save_data['ag_params_hist'] = ag_params_hist\n",
    "# save_data['ad_params_hist'] = ad_params_hist\n",
    "# save_data['mo_params_hist'] = mo_params_hist\n",
    "# save_data['ne_params_hist'] = ne_params_hist\n",
    "# save_data['qn_params_hist'] = qn_params_hist\n",
    "# save_data['rm_params_hist'] = rm_params_hist\n",
    "\n",
    "# getjson.save_to_json(filename,save_data)"
   ]
  },
  {
   "cell_type": "markdown",
   "id": "347b9497",
   "metadata": {},
   "source": []
  },
  {
   "cell_type": "markdown",
   "id": "fa5f9dd4",
   "metadata": {},
   "source": [
    "### Setting VQE in Qamuy"
   ]
  },
  {
   "cell_type": "code",
   "execution_count": 16,
   "id": "da49a9eb",
   "metadata": {},
   "outputs": [],
   "source": [
    "import qamuy.chemistry as qy\n",
    "from qamuy.client import Client"
   ]
  },
  {
   "cell_type": "code",
   "execution_count": 102,
   "id": "a58404a9",
   "metadata": {},
   "outputs": [],
   "source": [
    "# Create Hydrogen Molecule\n",
    "mol_name = 'tetra_h4'\n",
    "mol_full_name = 'tetra hydrogen molecule'\n",
    "bond_length = 0.529177249 * 1.4 # Convert to Angstroms\n",
    "\n",
    "# Get Hydrogen Molecule\n",
    "mol_symbols, coords, charge, num_elec = getmol.get_molecule(mol_name, bond_length)\n",
    "new_coords = coords.reshape((4,3)).tolist()\n",
    "setting = qy.QamuyChemistryInput()\n",
    "molecule = setting.target_molecule\n",
    "molecule.geometry = qy.molecule_geometry(mol_symbols, new_coords)\n",
    "molecule.basis = \"sto-3g\"\n",
    "molecule.multiplicity = 1\n",
    "molecule.num_excited_states = 0\n",
    "\n",
    "# Set Fermion to Spin Mapping\n",
    "setting.mapping.type = \"JORDAN_WIGNER\"\n",
    "\n",
    "# Set Quantum Algorithm \n",
    "setting.solver.type = \"VQE\"\n",
    "\n",
    "# Set cost function\n",
    "setting.cost_function.type = \"NONE\"\n",
    "\n",
    "# Set ansatz\n",
    "setting.ansatz.type = \"UCCSD\"\n",
    "setting.ansatz.trotter_steps = 1\n",
    "setting.ansatz.reference_state = 'RHF'\n",
    "setting.ansatz.initial_parameter = [0]\n",
    "setting.ansatz.use_random_initial_guess = False\n",
    "\n",
    "# Quantum Device\n",
    "setting.quantum_device.type = \"EXACT_SIMULATOR\"\n",
    "\n",
    "# Ab Inito Calculation For Reference\n",
    "setting.post_hf_methods.append(qy.PostHFMethod(type=\"FCI\"))"
   ]
  },
  {
   "cell_type": "markdown",
   "id": "33c45457",
   "metadata": {},
   "source": [
    "### Benchmarking QAMUY Optimisers"
   ]
  },
  {
   "cell_type": "code",
   "execution_count": 103,
   "id": "ef2574f1",
   "metadata": {},
   "outputs": [
    {
     "name": "stderr",
     "output_type": "stream",
     "text": [
      "[Parallel(n_jobs=-1)]: Using backend ThreadingBackend with 10 concurrent workers.\n",
      "[Parallel(n_jobs=-1)]: Done   2 out of   8 | elapsed:   42.4s remaining:  2.1min\n",
      "[Parallel(n_jobs=-1)]: Done   3 out of   8 | elapsed:   52.7s remaining:  1.5min\n",
      "[Parallel(n_jobs=-1)]: Done   4 out of   8 | elapsed:  1.1min remaining:  1.1min\n",
      "[Parallel(n_jobs=-1)]: Done   5 out of   8 | elapsed:  1.6min remaining:   56.4s\n",
      "[Parallel(n_jobs=-1)]: Done   6 out of   8 | elapsed:  1.9min remaining:   38.2s\n",
      "[Parallel(n_jobs=-1)]: Done   8 out of   8 | elapsed:  2.8min remaining:    0.0s\n",
      "[Parallel(n_jobs=-1)]: Done   8 out of   8 | elapsed:  2.8min finished\n"
     ]
    }
   ],
   "source": [
    "# My Optimiser\n",
    "my_optimiser_list = ['BFGS','BFGS_FTOL','L_BFGS_B', 'POWELL', 'CG', 'TNC', 'SLSQP', 'ADAM' ]\n",
    "\n",
    "# Prepare Inputs for Jobs Submission\n",
    "jobs = []\n",
    "for my_opt in my_optimiser_list:\n",
    "    new_input = copy.deepcopy(setting)\n",
    "    new_input.optimizer.type = my_opt\n",
    "    new_input.optimizer.max_iter = 100\n",
    "    new_input.optimizer.max_fev = 500\n",
    "    jobs.append(client.submit(new_input))\n",
    "\n",
    "# Submit Jobs for computation\n",
    "results = client.wait_and_get_job_results(jobs)\n",
    "outputs = [res.output for res in results]"
   ]
  },
  {
   "cell_type": "code",
   "execution_count": 114,
   "id": "b20087e1",
   "metadata": {},
   "outputs": [],
   "source": [
    "# Collect VQE Optimisation Results\n",
    "hf_energy_qamuy = np.zeros(len(my_optimiser_list))\n",
    "ref_energy_qamuy = np.zeros(len(my_optimiser_list))\n",
    "vqe_energy_qamuy = np.zeros(len(my_optimiser_list))\n",
    "vqe_opt_message_qamuy = []\n",
    "qy_energy_hist_uccsd_list = []\n",
    "opt_steps_list  = []\n",
    "for i in range(len(my_optimiser_list)):\n",
    "    hf_energy = outputs[i].molecule_result.hf_result.evaluated_properties[0].energy.values[0].value\n",
    "    hf_energy_qamuy[i] = hf_energy\n",
    "    ref_energy = outputs[i].molecule_result.post_hf_results[0].evaluated_properties[0].energy.values[0].value\n",
    "    ref_energy_qamuy[i] = ref_energy\n",
    "    opt_message = outputs[0].molecule_result.quantum_device_result.vqe_log.message\n",
    "    vqe_opt_message_qamuy.append(opt_message)\n",
    "    qy_energy_hist_uccsd_ = outputs[i].molecule_result.quantum_device_result.vqe_log.cost_hist[0].history\n",
    "    vqe_energy_qamuy[i] = qy_energy_hist_uccsd_[-1]\n",
    "    qy_energy_hist_uccsd = [hf_energy] + list(qy_energy_hist_uccsd_)\n",
    "    qy_energy_hist_uccsd_list.append(qy_energy_hist_uccsd)\n",
    "    opt_steps_list.append(outputs[i].molecule_result.quantum_device_result.vqe_log.nit + 1)\n"
   ]
  },
  {
   "cell_type": "markdown",
   "id": "0a33774a",
   "metadata": {},
   "source": [
    "### Results"
   ]
  },
  {
   "cell_type": "code",
   "execution_count": 116,
   "id": "db63451e",
   "metadata": {},
   "outputs": [
    {
     "name": "stdout",
     "output_type": "stream",
     "text": [
      "Quantum Resource:\n",
      "{'num_qubit': 8, 'num_parameter': 26, 'num_gate': 1472, 'num_1qubit_gate': 160, 'num_2qubit_gate': 1312}\n",
      "\n",
      "Optimiser: BFGS\n",
      "Iter: 47\n",
      "Hartree-Fock Energy: -1.409119239809351\n",
      "Reference Energy: -1.8508936397612863\n",
      "Final Energy: -1.85089362521754\n",
      "Message: Optimization terminated successfully.\n",
      "\n",
      "Optimiser: BFGS_FTOL\n",
      "Iter: 27\n",
      "Hartree-Fock Energy: -1.409119239809351\n",
      "Reference Energy: -1.850893639761288\n",
      "Final Energy: -1.8508822376235794\n",
      "Message: Optimization terminated successfully.\n",
      "\n",
      "Optimiser: L_BFGS_B\n",
      "Iter: 22\n",
      "Hartree-Fock Energy: -1.409119239809351\n",
      "Reference Energy: -1.850893639761288\n",
      "Final Energy: -1.8508716300389942\n",
      "Message: Optimization terminated successfully.\n",
      "\n",
      "Optimiser: POWELL\n",
      "Iter: 3\n",
      "Hartree-Fock Energy: -1.4091192398093528\n",
      "Reference Energy: -1.8508936397612876\n",
      "Final Energy: -1.8415048162096315\n",
      "Message: Optimization terminated successfully.\n",
      "\n",
      "Optimiser: CG\n",
      "Iter: 101\n",
      "Hartree-Fock Energy: -1.4091192398093528\n",
      "Reference Energy: -1.850893639761289\n",
      "Final Energy: -1.8508936170356673\n",
      "Message: Optimization terminated successfully.\n",
      "\n",
      "Optimiser: TNC\n",
      "Iter: 16\n",
      "Hartree-Fock Energy: -1.4091192398093528\n",
      "Reference Energy: -1.8508936397612876\n",
      "Final Energy: -1.4939533838090344\n",
      "Message: Optimization terminated successfully.\n",
      "\n",
      "Optimiser: SLSQP\n",
      "Iter: 34\n",
      "Hartree-Fock Energy: -1.409119239809352\n",
      "Reference Energy: -1.8508936397612854\n",
      "Final Energy: -1.8508920606044468\n",
      "Message: Optimization terminated successfully.\n",
      "\n",
      "Optimiser: ADAM\n",
      "Iter: 101\n",
      "Hartree-Fock Energy: -1.5775358818799696\n",
      "Reference Energy: -1.8508936397626194\n",
      "Final Energy: -1.8508156776486033\n",
      "Message: Optimization terminated successfully.\n",
      "\n"
     ]
    }
   ],
   "source": [
    "# Show Results\n",
    "print(f'Quantum Resource:\\n{outputs[0].molecule_result.quantum_device_result.vqe_log.quantum_resources.circuit}\\n')\n",
    "for i in range(len(my_optimiser_list)):\n",
    "    print(f'Optimiser: {my_optimiser_list[i]}')\n",
    "    print(f'Iter: {opt_steps_list[i]}')\n",
    "    print(f'Hartree-Fock Energy: {hf_energy_qamuy[i]}')\n",
    "    print(f'Reference Energy: {ref_energy_qamuy[i]}')\n",
    "    print(f'Final Energy: {vqe_energy_qamuy[i]}')\n",
    "    \n",
    "    print(f'Message: {vqe_opt_message_qamuy[i]}\\n')"
   ]
  },
  {
   "cell_type": "code",
   "execution_count": 118,
   "id": "9ff7beca",
   "metadata": {},
   "outputs": [
    {
     "data": {
      "text/plain": [
       "<matplotlib.legend.Legend at 0x7faaec11f750>"
      ]
     },
     "execution_count": 118,
     "metadata": {},
     "output_type": "execute_result"
    },
    {
     "data": {
      "image/png": "[encoded data removed]",
      "text/plain": [
       "<Figure size 432x288 with 1 Axes>"
      ]
     },
     "metadata": {
      "needs_background": "light"
     },
     "output_type": "display_data"
    }
   ],
   "source": [
    "# Plot the results\n",
    "fig2, ax2 = plt.subplots()\n",
    "for i in range(len(my_optimiser_list)):\n",
    "    ax2.plot(np.arange(0,opt_steps_list[i]),qy_energy_hist_uccsd_list[i], label=my_optimiser_list[i], lw=1)\n",
    "ax2.axhline(y=ref_energy, color='r', linestyle='--', label=\"Reference\", lw=1)\n",
    "ax2.set_xlabel('Optimiser Step')\n",
    "ax2.set_ylabel('Electronic Energy (Hartree)')\n",
    "ax2.set_title(r'Energy Optimisation of Tetra-$H_4$ at 1.4 Bohr'+ f'\\nwith Various Optimisers Using Qamuy')\n",
    "ax2.set_ylim([sum(ref_energy_qamuy)/len(ref_energy_qamuy)-0.01,sum(hf_energy_qamuy)/len(hf_energy_qamuy)+0.05])\n",
    "ax2.set_xlim([-1,30])\n",
    "ax2.legend()"
   ]
  },
  {
   "cell_type": "markdown",
   "id": "27394212",
   "metadata": {},
   "source": [
    "### Discussion\n",
    "\n",
    "The graph above shows that Powell has the fastest convergence but it prematurely stops before converging to the reference ground energy. BFGS, BFGS_FTOL, L-BFGS-B and CG were among the fastest that converge to the reference, with BFGS having the most accurate final solution. SLSQP has a strange increase in the electronic energy, which might indicate instability in the optimiser algorithm. TNC fails to converge while Adam converges slowly to the reference. It is noted that Adam starts with the wrong Hartree-Fock Energy, which may be a symptom of an unresolved bug.\n",
    "\n",
    "Based on this result, we shall continue the use of BFGS optimiser as it provides reasonably fast convergence rate and accurate final solution."
   ]
  },
  {
   "cell_type": "markdown",
   "id": "b824ad58",
   "metadata": {},
   "source": []
  }
 ],
 "metadata": {
  "kernelspec": {
   "display_name": "Python 3 (ipykernel)",
   "language": "python",
   "name": "python3"
  },
  "language_info": {
   "codemirror_mode": {
    "name": "ipython",
    "version": 3
   },
   "file_extension": ".py",
   "mimetype": "text/x-python",
   "name": "python",
   "nbconvert_exporter": "python",
   "pygments_lexer": "ipython3",
   "version": "3.7.11"
  }
 },
 "nbformat": 4,
 "nbformat_minor": 5
}
