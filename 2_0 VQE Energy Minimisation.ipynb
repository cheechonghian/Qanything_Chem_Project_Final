{
 "cells": [
  {
   "cell_type": "markdown",
   "id": "53d1f100",
   "metadata": {},
   "source": [
    "# VQE Energy Optimisation\n",
    "\n",
    "We use shall demonstrate use of the Pennylane Library to construct the Disentangled UCC ansatz and perform the VQE energy optimisation on our laptops. To maintain code consistency, we will use any default values if possible. VQE will be performed on the Hydrogen Molecule $H_2$ at its known equilibrium bond length of 1.4 Bohr. For a more detailed tutorial please refer to official documentation [here](https://pennylane.ai/qml/demos/tutorial_vqe.html).\n",
    "\n",
    "Variational Quantum Eigensolver Steps:\n",
    "1. For a particular molecular geometry, get the molecular Hamiltonian $H$ using `qml.qchem.molecular_hamiltonian()`, which will act as an observable to measure the molecular energy $E$ of the quantum output state.\n",
    "2. On the quatum circuit, prepare the Hartree-Fock Ground State $|\\psi_{0}\\rangle$.\n",
    "3. Apply the Problem-Inspired Ansatz $\\prod_{\\alpha}U_{\\alpha}(\\theta_\\alpha)$, Disentangled Unitary Coupled Cluster (UCC) , with initial parameters set to zero.\n",
    "$$|\\psi_{PI}\\rangle = \\prod_{\\alpha}U_{\\alpha}(\\theta_\\alpha)|\\psi_0\\rangle$$\n",
    "4. Perform measurement to get $\\langle\\psi_{PI}|H|\\psi_{PI}\\rangle \\approx E$ as the estimate of the molecular energy.\n",
    "5. Feed the energy estimate $E$ into the optimiser.\n",
    "6. Repeat from step 1 onwards, using new parameters from the optimiser.\n",
    "\n",
    "In addition, we provided a [QAMUY](https://qamuy.qunasys.com/docs/en/) VQE Implementation of Hydrogen Molecule below."
   ]
  },
  {
   "cell_type": "markdown",
   "id": "60e920b5",
   "metadata": {},
   "source": [
    "### PennyLane Implementation"
   ]
  },
  {
   "cell_type": "code",
   "execution_count": 2,
   "id": "fda2ebe7-99e4-4c26-b97f-3289d0055935",
   "metadata": {},
   "outputs": [],
   "source": [
    "# Native Lib\n",
    "import itertools as it\n",
    "\n",
    "# External Lib\n",
    "import pennylane as qml\n",
    "import numpy as np\n",
    "from pennylane import numpy as plnp\n",
    "import matplotlib.pyplot as plt\n",
    "\n",
    "# qanything Lib\n",
    "import qanything.get_index as getind\n",
    "import qanything.get_molecule as getmol\n",
    "import qanything.get_json as getjson"
   ]
  },
  {
   "cell_type": "code",
   "execution_count": 3,
   "id": "984b63a3-2144-4632-8ffb-1b5fcc0ec1e6",
   "metadata": {},
   "outputs": [
    {
     "name": "stderr",
     "output_type": "stream",
     "text": [
      "/Users/cheechonghian/miniconda3/envs/mypenny/lib/python3.7/site-packages/pyscf/lib/misc.py:46: H5pyDeprecationWarning: Using default_file_mode other than 'r' is deprecated. Pass the mode to h5py.File() instead.\n",
      "  h5py.get_config().default_file_mode = 'a'\n"
     ]
    },
    {
     "name": "stdout",
     "output_type": "stream",
     "text": [
      "Iter: 1, Energy: -1.116714325063832\n",
      "Iter: 10, Energy: -1.1194808918547907\n",
      "Iter: 20, Energy: -1.1221246714906385\n",
      "Iter: 30, Energy: -1.1243788599312177\n",
      "Iter: 40, Energy: -1.126299987480848\n",
      "Iter: 50, Energy: -1.1279366253161764\n",
      "Iter: 60, Energy: -1.1293304382341816\n",
      "Iter: 70, Energy: -1.1305171174252007\n",
      "Iter: 80, Energy: -1.1315272011993793\n",
      "Iter: 90, Energy: -1.132386793026507\n",
      "Iter: 100, Energy: -1.1331181868036744\n",
      "Iter: 110, Energy: -1.1337404092337109\n",
      "Iter: 120, Energy: -1.1342696887921138\n",
      "Iter: 130, Energy: -1.1347198601325967\n",
      "Iter: 140, Energy: -1.1351027120375377\n",
      "Iter: 150, Energy: -1.1354282862314284\n",
      "Iter: 160, Energy: -1.1357051335906336\n",
      "Iter: 170, Energy: -1.1359405335311883\n",
      "Iter: 180, Energy: -1.136140681655625\n",
      "Iter: 190, Energy: -1.1363108500988774\n",
      "Iter: 200, Energy: -1.1364555244354382\n"
     ]
    }
   ],
   "source": [
    "# Create the Hydrogen Molecule\n",
    "mol_name = 'h2'\n",
    "mol_full_name = 'hydrogen molecule'\n",
    "bond_length = 1.4\n",
    "mol_symbols, coords, charge, num_elec = getmol.get_molecule(mol_name, bond_length)\n",
    "\n",
    "# Get the Molecular Hamiltonian (Using Jordan-Wigner)\n",
    "mol_ham, num_qubits = qml.qchem.molecular_hamiltonian(symbols=mol_symbols, coordinates=coords, name=mol_full_name ,charge=charge)\n",
    "\n",
    "# Get the Orbital and Single and Double Excitation Index \n",
    "occupied_index, single_index, double_index = getind.generate_excite_index(num_qubits, num_elec)\n",
    "\n",
    "# Get the Disentangled Unitary Coupled Cluster Single Doubles (UCCSD) Excitation Sequence \n",
    "disentangle_order = getind.generate_disentanglement_order(occupied_index, single_index, double_index)\n",
    "\n",
    "# Get the Hartree-Fock State\n",
    "hf = qml.qchem.hf_state(electrons=num_elec, orbitals=num_qubits)\n",
    "\n",
    "# Prepare the problem-inspired ansatz based on the Disentangled Sequence\n",
    "def uccsd_ansatz(params, wires, excitations):\n",
    "    qml.BasisState(hf, wires=wires)\n",
    "    for i, excitation in enumerate(excitations):\n",
    "        if len(excitation) == 4:\n",
    "            qml.DoubleExcitation(params[i], wires=excitation)\n",
    "        else:\n",
    "            qml.SingleExcitation(params[i], wires=excitation)\n",
    "\n",
    "# Prepare the Statevector Device, cost function\n",
    "dev = qml.device(\"default.qubit\", wires=num_qubits)  # Statevector Device (Matrix Calculation)\n",
    "cost_fn_uccsd = qml.ExpvalCost(uccsd_ansatz, mol_ham, dev, optimize=True)  # Cost Function\n",
    "\n",
    "# Gradient Based Optimiser\n",
    "max_steps = 200\n",
    "optimiser_gd = qml.GradientDescentOptimizer()  \n",
    "\n",
    "# Set Initial Parameters \n",
    "params_uccsd = plnp.zeros(len(disentangle_order), requires_grad=True)\n",
    "gd_params_hist_uccsd = [params_uccsd]\n",
    "gd_energy_hist_uccsd = np.zeros(max_steps)\n",
    "\n",
    "# Perform VQE for Problem-Inspired \n",
    "for step in range(max_steps):\n",
    "    params_uccsd, energy_uccsd = optimiser_gd.step_and_cost(cost_fn_uccsd, params_uccsd, excitations=disentangle_order)\n",
    "    \n",
    "    gd_params_hist_uccsd.append(params_uccsd)\n",
    "    gd_energy_hist_uccsd[step] = energy_uccsd\n",
    "    if (step+1)%10 == 0:\n",
    "        print(f\"Iter: {step+1}, Energy: {energy_uccsd}\")\n",
    "    elif step == 0:\n",
    "        print(f\"Iter: {step+1}, Energy: {energy_uccsd}\")"
   ]
  },
  {
   "cell_type": "markdown",
   "id": "b0332c59",
   "metadata": {},
   "source": [
    "### Results"
   ]
  },
  {
   "cell_type": "code",
   "execution_count": 8,
   "id": "0f042776",
   "metadata": {},
   "outputs": [
    {
     "data": {
      "text/plain": [
       "<matplotlib.legend.Legend at 0x7fe171f18590>"
      ]
     },
     "execution_count": 8,
     "metadata": {},
     "output_type": "execute_result"
    },
    {
     "data": {
      "image/png": "[encoded data removed]",
      "text/plain": [
       "<Figure size 432x288 with 1 Axes>"
      ]
     },
     "metadata": {
      "needs_background": "light"
     },
     "output_type": "display_data"
    }
   ],
   "source": [
    "# Plot the results\n",
    "fig, ax = plt.subplots()\n",
    "ax.plot(np.arange(0,max_steps),gd_energy_hist_uccsd, label='Problem-Inspired Ansatz')\n",
    "ax.axhline(y=-1.1372759436170639, color='r', linestyle='--', label=\"Reference Ground Energy\")\n",
    "ax.set_xlabel('Optimiser Step')\n",
    "ax.set_ylabel('Electronic Energy (Hartree)')\n",
    "ax.set_title(r'Energy Optimisation of $H_2$ at 1.4 Bohr'+ f'\\nwith Gradient Descent Optimiser')\n",
    "ax.legend()"
   ]
  },
  {
   "cell_type": "markdown",
   "id": "2b4d75e8",
   "metadata": {},
   "source": [
    "### Discussion\n",
    "\n",
    "From the optimisation iteration graph above, we indeed see that our problem-inspired ansatz (Disentangled UCC) is capable of generating the ground state energy, as the energy converges to the reference ground energy. However, the speed of convergence is too slow for our liking as our gradient descent is too basic for our VQE. We shall attempt to find better optimisers that are available from Pennylane to improve the convergence rate. This is an important step as the number of paramters will eventually grow with bigger molecules."
   ]
  },
  {
   "cell_type": "markdown",
   "id": "d81735ae",
   "metadata": {},
   "source": [
    "### Qamuy Implementation\n",
    "\n",
    "Currently, Qamuy does not allow user-defined custom ansatz for VQE optimisation, instead it offers several ansatz ready for VQE implementation [[1]](https://qamuy.qunasys.com/docs/en/input/ansatz.html). We shall use the currently offered single-step trotterised-UCCSD, which applies singles and doubles excitation operators once without repetition, where doubles are applied first before singles. Unfortunately, there is no way to find out the exact sequence the single and doubles are applied as Qamuy does not provide a functionality to view the quantum circuit. "
   ]
  },
  {
   "cell_type": "code",
   "execution_count": 9,
   "id": "e2b33dab",
   "metadata": {},
   "outputs": [],
   "source": [
    "import qamuy.chemistry as qy\n",
    "from qamuy.client import Client"
   ]
  },
  {
   "cell_type": "code",
   "execution_count": 10,
   "id": "ee69bd52",
   "metadata": {},
   "outputs": [],
   "source": [
    "# Create Hydrogen Molecule\n",
    "mol_name = 'h2'\n",
    "mol_full_name = 'hydrogen molecule'\n",
    "bond_length = 0.529177249 * 1.4 # Convert to Angstroms\n",
    "\n",
    "# Get Hydrogen Molecule\n",
    "mol_symbols, coords, charge, num_elec = getmol.get_molecule(mol_name, bond_length)\n",
    "new_coords = coords.reshape((2,3)).tolist()\n",
    "setting = qy.QamuyChemistryInput()\n",
    "molecule = setting.target_molecule\n",
    "molecule.geometry = qy.molecule_geometry(mol_symbols, new_coords)\n",
    "molecule.basis = \"sto-3g\"\n",
    "molecule.multiplicity = 1\n",
    "molecule.num_excited_states = 0\n",
    "\n",
    "# Set Fermion to Spin Mapping\n",
    "setting.mapping.type = \"JORDAN_WIGNER\"\n",
    "\n",
    "# Set Quantum Algorithm \n",
    "setting.solver.type = \"VQE\"\n",
    "\n",
    "# Set cost function\n",
    "setting.cost_function.type = \"NONE\"\n",
    "\n",
    "# Set ansatz\n",
    "setting.ansatz.type = \"UCCSD\"\n",
    "setting.ansatz.trotter_steps = 1\n",
    "setting.ansatz.reference_state = 'RHF'\n",
    "setting.ansatz.initial_parameter = [0]\n",
    "setting.ansatz.use_random_initial_guess = False\n",
    "\n",
    "# My Optimiser\n",
    "setting.optimizer.type = \"BFGS\"\n",
    "\n",
    "# Quantum Device\n",
    "setting.quantum_device.type = \"EXACT_SIMULATOR\"\n",
    "\n",
    "# Ab Inito Calculation For Reference\n",
    "setting.post_hf_methods.append(qy.PostHFMethod(type=\"FCI\"))"
   ]
  },
  {
   "cell_type": "code",
   "execution_count": 37,
   "id": "4f131928",
   "metadata": {},
   "outputs": [
    {
     "name": "stderr",
     "output_type": "stream",
     "text": [
      "[Parallel(n_jobs=-1)]: Using backend ThreadingBackend with 10 concurrent workers.\n",
      "[Parallel(n_jobs=-1)]: Done   1 tasks      | elapsed:   26.7s\n",
      "[Parallel(n_jobs=-1)]: Done   1 out of   1 | elapsed:   26.7s finished\n"
     ]
    }
   ],
   "source": [
    "# Submit Jobs for computation\n",
    "job = client.submit(setting)\n",
    "results = client.wait_and_get_job_results([job])\n",
    "output = results[0].output"
   ]
  },
  {
   "cell_type": "code",
   "execution_count": 64,
   "id": "b670ad74",
   "metadata": {},
   "outputs": [
    {
     "name": "stdout",
     "output_type": "stream",
     "text": [
      "{'num_qubit': 4, 'num_parameter': 3, 'num_gate': 76, 'num_1qubit_gate': 12, 'num_2qubit_gate': 64}\n"
     ]
    }
   ],
   "source": [
    "# Summary of Quantum Resources Used\n",
    "print(output.molecule_result.quantum_device_result.vqe_log.quantum_resources.circuit)"
   ]
  },
  {
   "cell_type": "markdown",
   "id": "ba96b872",
   "metadata": {},
   "source": [
    "### Results"
   ]
  },
  {
   "cell_type": "code",
   "execution_count": 45,
   "id": "ddf2d526",
   "metadata": {},
   "outputs": [
    {
     "data": {
      "text/plain": [
       "<matplotlib.legend.Legend at 0x7fe15013ed10>"
      ]
     },
     "execution_count": 45,
     "metadata": {},
     "output_type": "execute_result"
    },
    {
     "data": {
      "image/png": "[encoded data removed]",
      "text/plain": [
       "<Figure size 432x288 with 1 Axes>"
      ]
     },
     "metadata": {
      "needs_background": "light"
     },
     "output_type": "display_data"
    }
   ],
   "source": [
    "# Collect VQE Optimisation Results\n",
    "hf_energy = output.molecule_result.hf_result.evaluated_properties[0].energy.values[0].value\n",
    "ref_energy = output.molecule_result.post_hf_results[0].evaluated_properties[0].energy.values[0].value\n",
    "uccsd_energy = output.molecule_result.quantum_device_result.evaluated_properties[0].energy.values[0].value\n",
    "qy_energy_hist_uccsd_ = output.molecule_result.quantum_device_result.vqe_log.cost_hist[0].history\n",
    "qy_energy_hist_uccsd = [hf_energy] + list(qy_energy_hist_uccsd_)\n",
    "opt_steps = output.molecule_result.quantum_device_result.vqe_log.nit + 1\n",
    "\n",
    "# Plot the results\n",
    "fig2, ax2 = plt.subplots()\n",
    "ax2.plot(np.arange(0,opt_steps),qy_energy_hist_uccsd, label='Problem-Inspired Ansatz')\n",
    "ax2.axhline(y=uccsd_energy, color='r', linestyle='--', label=\"Reference Ground Energy\")\n",
    "ax2.set_xlabel('Optimiser Step')\n",
    "ax2.set_ylabel('Electronic Energy (Hartree)')\n",
    "ax2.set_title(r'Energy Optimisation of $H_2$ at 1.4 Bohr'+ f'\\nwith BFGS Optimiser Using Qamuy')\n",
    "ax2.legend()"
   ]
  },
  {
   "cell_type": "markdown",
   "id": "6577e16a",
   "metadata": {},
   "source": [
    "### Discusion\n",
    "\n",
    "We see a remarkable convergence to the reference ground state energy with BFGS, which is a quasi-newton gradient descent optimiser used in QAMUY. Pennylane currently do not have a built-in BFGS or any quasi-newton gradient descent optimisers and is relying on first-order gradient descent methods commonly used in Classical Neural Network Training in Maching Learning."
   ]
  },
  {
   "cell_type": "markdown",
   "id": "8a5fecac",
   "metadata": {},
   "source": []
  }
 ],
 "metadata": {
  "kernelspec": {
   "display_name": "Python 3 (ipykernel)",
   "language": "python",
   "name": "python3"
  },
  "language_info": {
   "codemirror_mode": {
    "name": "ipython",
    "version": 3
   },
   "file_extension": ".py",
   "mimetype": "text/x-python",
   "name": "python",
   "nbconvert_exporter": "python",
   "pygments_lexer": "ipython3",
   "version": "3.7.11"
  }
 },
 "nbformat": 4,
 "nbformat_minor": 5
}
