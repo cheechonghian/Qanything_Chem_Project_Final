{
 "cells": [
  {
   "cell_type": "markdown",
   "id": "95706246",
   "metadata": {},
   "source": [
    "# Exploring the Potential Energy Surface (PES) of a Molecule with a Problem-Inspired Ansatz"
   ]
  },
  {
   "cell_type": "markdown",
   "id": "ab9cb740",
   "metadata": {},
   "source": [
    "Note: For a curated summary, look for the uploaded PDF Slides in this folder.\n",
    "\n",
    "### Contributors and Contributions\n",
    "\n",
    "- Chee Chong Hian (Lead, Coder, Curator)\n",
    "- Benjamin Tan (Proofreading, Curator)\n",
    "- Gan Beng Yee & Supanut Thanasilp (Assist in Running Quantum Circuit on Real IBM Devices)\n",
    "- Adrain Mak (Proofreading)\n",
    "\n",
    "### Contents (Coding Work)\n",
    "- 0.0 Introduction (This Page)\n",
    "- 1.0 Potential Energy Surface (PES) and Problem Inspired Ansatz\n",
    "- 2.0 VQE Energy Minimisation\n",
    "- 2.1 Benchmarking Gradient Based Optimisers\n",
    "- 3.0 PES of Hydrogen Molecule\n",
    "- 3.1A PES of Hydrogen Molecule with IBMQ Noise Models\n",
    "- 3.1B PES of Hydrogen Molecule with IBMQ Noise Models and Mitiq\n",
    "- 3.1C PES of Hydrogen Molecule with IBMQ Noise Models and Mitiq (Hartree-Fock Only)\n",
    "- 3.1D PES of Hydrogen Molecule with IBMQ Noise Models and Mitiq Combined Plots\n",
    "- 3.2 PES of Helium Dimer\n",
    "- 3.3 PES of Lithium Hydride without CAS\n",
    "\n",
    "### Introduction\n",
    "\n",
    "Quantum Chemistry is one of the leading candidates for the practical applications of quantum computers within the Noisy Intermediate-Scale Quantum (NISQ) era. Our project aims to explore the Ground Potential Energy Surface (PES) of a given molecule by classically training quantum computer to prepare said ground state using Hybrid Quantum Classical Optimisation Framework. This training method is known as the [Variational Quantum Eigensolver](https://pennylane.ai/qml/demos/tutorial_vqe.html) (VQE). \n",
    "\n",
    "We shall use VQE to investigate a problem-inspired variational ground state ansatz: Disentangled Unitary Coupled Cluster (UCC) [1] that uses particle conserving circuits as building blocks based on [Givens rotations](https://pennylane.ai/qml/demos/tutorial_givens_rotations.html) [2]. Using this problem-inspired ansatz, we contruct ground state of simple molecules such as Hydrogen Molecule $H_2$ (4 qubits), Helium Dimer $He_2$ (8 Qubits), and Lithium Hydride $LiH$ (12 Qubit). Initial test runs will be performed on a Local Computer (Laptop) using the PennyLane Quantum simulator before transitioning to a quantum backend with IBMQ Simulated Noise Model via Qiskit. Each measured energy will be optimized using one of the gradient-based approaches available from PennyLane. Quantum resources will be compared based on the number of gates and circuit evaluations required to calculate the necessary Pauli observables. These results should provide us some insight on the readiness of current NISQ devices for to implement the aforementioned ansatz.\n",
    "\n",
    "In addition, we also provide a [QAMUY](https://qamuy.qunasys.com/docs/en/) VQE implementation to explore the PES of the molecule. Qamuy offers an easy to use built-in VQE that uses a Quantum Backend. It allow uses to submit multiple independent jobs for parallel calculation of the potential energy surface.\n",
    "\n",
    "### For Beginners to Quantum Computing for Quantum Chemistry \n",
    "- [PennyLane: Quantum Chemistry Demo](https://pennylane.ai/qml/demos_quantum-chemistry.html)\n",
    "- [Quantum Chemistry I: Obtaining the Qubit Hamiltonian for H2 and LiH - Part 1](https://www.youtube.com/watch?v=2XEjrwWhr88)"
   ]
  },
  {
   "cell_type": "markdown",
   "id": "a3d30bb5",
   "metadata": {},
   "source": [
    "#### References: \n",
    "[1] Evangelista, F. A., Chan, G. K.-L., & Scuseria, G. E. (2019). Exact parameterization of fermionic wave functions via unitary coupled cluster theory. The Journal of Chemical Physics, 151(24), 244112.\n",
    "\n",
    "\n",
    "[2] Arrazola, J. M., Matteo, O. D., Quesada, N., Jahangiri, S., Delgado, A., & Killoran, N. (2021). Universal quantum circuits for quantum chemistry.\n"
   ]
  },
  {
   "cell_type": "markdown",
   "id": "6f211cbd",
   "metadata": {},
   "source": [
    "<!-- # Assumptions:\n",
    "\n",
    "The audieue know what Quantum Computing, VQE is -->\n"
   ]
  },
  {
   "cell_type": "markdown",
   "id": "d3b0be41",
   "metadata": {},
   "source": []
  }
 ],
 "metadata": {
  "kernelspec": {
   "display_name": "Python 3 (ipykernel)",
   "language": "python",
   "name": "python3"
  },
  "language_info": {
   "codemirror_mode": {
    "name": "ipython",
    "version": 3
   },
   "file_extension": ".py",
   "mimetype": "text/x-python",
   "name": "python",
   "nbconvert_exporter": "python",
   "pygments_lexer": "ipython3",
   "version": "3.7.11"
  }
 },
 "nbformat": 4,
 "nbformat_minor": 5
}
